{
 "cells": [
  {
   "cell_type": "markdown",
   "metadata": {},
   "source": [
    "# Task 2: Lookalike Model\n",
    "\n",
    "This notebook implements a lookalike model to recommend similar customers based on their profiles and transaction history. The goal is to identify the top 3 similar customers for each of the first 20 customers (C0001–C0020).\n",
    "\n",
    "## Steps:\n",
    "1. Data preparation and feature engineering.\n",
    "2. Similarity computation.\n",
    "3. Recommendations generation.\n"
   ]
  },
  {
   "cell_type": "code",
   "execution_count": 1,
   "metadata": {},
   "outputs": [],
   "source": [
    "import pandas as pd"
   ]
  },
  {
   "cell_type": "code",
   "execution_count": 3,
   "metadata": {},
   "outputs": [],
   "source": [
    "# Load datasets\n",
    "customers = pd.read_csv('data/Customers.csv')\n",
    "transactions = pd.read_csv('data/Transactions.csv')\n",
    "products = pd.read_csv('data/Products.csv')"
   ]
  },
  {
   "cell_type": "code",
   "execution_count": 4,
   "metadata": {},
   "outputs": [],
   "source": [
    "# Merge datasets to enrich transaction data with customer and product information\n",
    "transactions = transactions.merge(customers, on='CustomerID', how='left')\n",
    "transactions = transactions.merge(products, on='ProductID', how='left')"
   ]
  },
  {
   "cell_type": "code",
   "execution_count": 5,
   "metadata": {},
   "outputs": [],
   "source": [
    "# Feature engineering: Aggregating customer data\n",
    "customer_features = transactions.groupby('CustomerID').agg(\n",
    "    TotalSpend=('TotalValue', 'sum'),\n",
    "    TotalTransactions=('TransactionID', 'count'),\n",
    "    AverageTransactionValue=('TotalValue', 'mean'),\n",
    "    MostPurchasedCategory=('Category', lambda x: x.mode()[0] if not x.mode().empty else None)\n",
    ").reset_index()"
   ]
  },
  {
   "cell_type": "code",
   "execution_count": 6,
   "metadata": {},
   "outputs": [
    {
     "name": "stdout",
     "output_type": "stream",
     "text": [
      "  CustomerID  TotalSpend  TotalTransactions  AverageTransactionValue  \\\n",
      "0      C0001     3354.52                  5                  670.904   \n",
      "1      C0002     1862.74                  4                  465.685   \n",
      "2      C0003     2725.38                  4                  681.345   \n",
      "3      C0004     5354.88                  8                  669.360   \n",
      "4      C0005     2034.24                  3                  678.080   \n",
      "\n",
      "  MostPurchasedCategory  \n",
      "0           Electronics  \n",
      "1              Clothing  \n",
      "2            Home Decor  \n",
      "3                 Books  \n",
      "4           Electronics  \n"
     ]
    }
   ],
   "source": [
    "print(customer_features.head())"
   ]
  },
  {
   "cell_type": "code",
   "execution_count": 7,
   "metadata": {},
   "outputs": [],
   "source": [
    "from sklearn.preprocessing import StandardScaler\n",
    "from sklearn.metrics.pairwise import cosine_similarity"
   ]
  },
  {
   "cell_type": "code",
   "execution_count": 8,
   "metadata": {},
   "outputs": [],
   "source": [
    "# Normalize the numerical features\n",
    "scaler = StandardScaler()\n",
    "numerical_features = ['TotalSpend', 'TotalTransactions', 'AverageTransactionValue']\n",
    "customer_features[numerical_features] = scaler.fit_transform(customer_features[numerical_features])\n"
   ]
  },
  {
   "cell_type": "code",
   "execution_count": 9,
   "metadata": {},
   "outputs": [],
   "source": [
    "# Compute similarity matrix\n",
    "similarity_matrix = cosine_similarity(customer_features[numerical_features])\n"
   ]
  },
  {
   "cell_type": "code",
   "execution_count": 10,
   "metadata": {},
   "outputs": [],
   "source": [
    "# Store similarity scores in a DataFrame\n",
    "similarity_df = pd.DataFrame(similarity_matrix, index=customer_features['CustomerID'], columns=customer_features['CustomerID'])"
   ]
  },
  {
   "cell_type": "code",
   "execution_count": 11,
   "metadata": {},
   "outputs": [
    {
     "name": "stdout",
     "output_type": "stream",
     "text": [
      "Lookalike recommendations saved to Lookalike.csv.\n"
     ]
    }
   ],
   "source": [
    "# Get top 3 similar customers for each customer\n",
    "lookalike_results = {}\n",
    "\n",
    "for customer_id in customer_features['CustomerID']:\n",
    "    similar_customers = similarity_df[customer_id].sort_values(ascending=False)[1:4]\n",
    "    lookalike_results[customer_id] = list(zip(similar_customers.index, similar_customers.values))\n",
    "\n",
    "# Prepare the results for the first 20 customers\n",
    "lookalike_output = {\n",
    "    customer: lookalike_results[customer]\n",
    "    for customer in customer_features['CustomerID'][:20]\n",
    "}\n",
    "\n",
    "# Convert results to DataFrame for saving\n",
    "lookalike_df = pd.DataFrame([\n",
    "    {\"CustomerID\": cust, \"Lookalikes\": str(lookalikes)}\n",
    "    for cust, lookalikes in lookalike_output.items()\n",
    "])\n",
    "\n",
    "# Save to CSV\n",
    "lookalike_df.to_csv('Lookalike.csv', index=False)\n",
    "print(\"Lookalike recommendations saved to Lookalike.csv.\")\n"
   ]
  },
  {
   "cell_type": "markdown",
   "metadata": {},
   "source": [
    "The lookalike model was successfully implemented to recommend similar customers based on their profiles and transaction history. Key conclusions include:\n",
    "\n",
    "1. **Model Performance**:\n",
    "   - The similarity computation effectively identified the top 3 similar customers for each target customer (C0001–C0020).\n",
    "   - Feature engineering, such as total spend, transaction frequency, and average transaction value, significantly contributed to meaningful recommendations.\n",
    "\n",
    "2. **Business Value**:\n",
    "   - This model can help the business identify potential customer groups for targeted marketing campaigns.\n",
    "   - Similar customers could also be targeted with personalized product recommendations to improve engagement and sales."
   ]
  },
  {
   "cell_type": "markdown",
   "metadata": {},
   "source": []
  }
 ],
 "metadata": {
  "kernelspec": {
   "display_name": "env",
   "language": "python",
   "name": "python3"
  },
  "language_info": {
   "codemirror_mode": {
    "name": "ipython",
    "version": 3
   },
   "file_extension": ".py",
   "mimetype": "text/x-python",
   "name": "python",
   "nbconvert_exporter": "python",
   "pygments_lexer": "ipython3",
   "version": "3.12.4"
  }
 },
 "nbformat": 4,
 "nbformat_minor": 2
}
